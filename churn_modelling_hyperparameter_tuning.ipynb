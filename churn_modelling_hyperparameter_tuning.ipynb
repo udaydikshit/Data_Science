{
 "cells": [
  {
   "cell_type": "markdown",
   "metadata": {
    "id": "jUVIA531iX6p"
   },
   "source": [
    "# **Churn Modelling**"
   ]
  },
  {
   "cell_type": "markdown",
   "metadata": {
    "id": "395vQsmaizzo"
   },
   "source": [
    "## **Importing Libraries**"
   ]
  },
  {
   "cell_type": "code",
   "execution_count": 1,
   "metadata": {
    "id": "M5RHdLxSyldF"
   },
   "outputs": [],
   "source": [
    "#dataframe and manipulation libraries\n",
    "import pandas as pd\n",
    "import numpy as np\n",
    "#visualizing libraries\n",
    "import seaborn as sns\n",
    "#feature necoding library\n",
    "from sklearn.preprocessing import LabelEncoder\n",
    "#test trains split library\n",
    "from sklearn.model_selection import train_test_split\n",
    "# feature scaling library\n",
    "from sklearn.preprocessing import MinMaxScaler\n",
    "#for hyperparameter tuning using randomized search\n",
    "from sklearn.model_selection import RandomizedSearchCV\n",
    "# keras and tensorflow framework libraries\n",
    "import tensorflow as tf\n",
    "from tensorflow.keras.models import Sequential\n",
    "from tensorflow.keras.layers import Dense, Activation,Dropout\n",
    "from tensorflow.keras.callbacks import EarlyStopping\n",
    "from tensorflow.keras.wrappers.scikit_learn import KerasClassifier\n",
    "# metrics report\n",
    "from sklearn.metrics import classification_report,confusion_matrix"
   ]
  },
  {
   "cell_type": "markdown",
   "metadata": {
    "id": "jS9LhRsqkGyl"
   },
   "source": [
    "## **Churn Modelling Dataset**"
   ]
  },
  {
   "cell_type": "code",
   "execution_count": 2,
   "metadata": {
    "id": "gS2URyJbfHom"
   },
   "outputs": [],
   "source": [
    "data= pd.read_csv(\"/content/drive/MyDrive/Churn_Modelling.csv\")"
   ]
  },
  {
   "cell_type": "code",
   "execution_count": 3,
   "metadata": {
    "colab": {
     "base_uri": "https://localhost:8080/"
    },
    "id": "gvDmL6V4hMyO",
    "outputId": "73b0358b-8e97-41f2-83e1-a0a853d1e954"
   },
   "outputs": [
    {
     "name": "stdout",
     "output_type": "stream",
     "text": [
      "<class 'pandas.core.frame.DataFrame'>\n",
      "RangeIndex: 10000 entries, 0 to 9999\n",
      "Data columns (total 14 columns):\n",
      " #   Column           Non-Null Count  Dtype  \n",
      "---  ------           --------------  -----  \n",
      " 0   RowNumber        10000 non-null  int64  \n",
      " 1   CustomerId       10000 non-null  int64  \n",
      " 2   Surname          10000 non-null  object \n",
      " 3   CreditScore      10000 non-null  int64  \n",
      " 4   Geography        10000 non-null  object \n",
      " 5   Gender           10000 non-null  object \n",
      " 6   Age              10000 non-null  int64  \n",
      " 7   Tenure           10000 non-null  int64  \n",
      " 8   Balance          10000 non-null  float64\n",
      " 9   NumOfProducts    10000 non-null  int64  \n",
      " 10  HasCrCard        10000 non-null  int64  \n",
      " 11  IsActiveMember   10000 non-null  int64  \n",
      " 12  EstimatedSalary  10000 non-null  float64\n",
      " 13  Exited           10000 non-null  int64  \n",
      "dtypes: float64(2), int64(9), object(3)\n",
      "memory usage: 1.1+ MB\n"
     ]
    }
   ],
   "source": [
    "data.info()"
   ]
  },
  {
   "cell_type": "code",
   "execution_count": 4,
   "metadata": {
    "colab": {
     "base_uri": "https://localhost:8080/",
     "height": 226
    },
    "id": "3Lkq_oz9hZKw",
    "outputId": "6c505024-4cd2-497a-8dc5-6602bcbb8c2a"
   },
   "outputs": [
    {
     "data": {
      "text/html": [
       "<div>\n",
       "<style scoped>\n",
       "    .dataframe tbody tr th:only-of-type {\n",
       "        vertical-align: middle;\n",
       "    }\n",
       "\n",
       "    .dataframe tbody tr th {\n",
       "        vertical-align: top;\n",
       "    }\n",
       "\n",
       "    .dataframe thead th {\n",
       "        text-align: right;\n",
       "    }\n",
       "</style>\n",
       "<table border=\"1\" class=\"dataframe\">\n",
       "  <thead>\n",
       "    <tr style=\"text-align: right;\">\n",
       "      <th></th>\n",
       "      <th>RowNumber</th>\n",
       "      <th>CustomerId</th>\n",
       "      <th>Surname</th>\n",
       "      <th>CreditScore</th>\n",
       "      <th>Geography</th>\n",
       "      <th>Gender</th>\n",
       "      <th>Age</th>\n",
       "      <th>Tenure</th>\n",
       "      <th>Balance</th>\n",
       "      <th>NumOfProducts</th>\n",
       "      <th>HasCrCard</th>\n",
       "      <th>IsActiveMember</th>\n",
       "      <th>EstimatedSalary</th>\n",
       "      <th>Exited</th>\n",
       "    </tr>\n",
       "  </thead>\n",
       "  <tbody>\n",
       "    <tr>\n",
       "      <th>0</th>\n",
       "      <td>1</td>\n",
       "      <td>15634602</td>\n",
       "      <td>Hargrave</td>\n",
       "      <td>619</td>\n",
       "      <td>France</td>\n",
       "      <td>Female</td>\n",
       "      <td>42</td>\n",
       "      <td>2</td>\n",
       "      <td>0.00</td>\n",
       "      <td>1</td>\n",
       "      <td>1</td>\n",
       "      <td>1</td>\n",
       "      <td>101348.88</td>\n",
       "      <td>1</td>\n",
       "    </tr>\n",
       "    <tr>\n",
       "      <th>1</th>\n",
       "      <td>2</td>\n",
       "      <td>15647311</td>\n",
       "      <td>Hill</td>\n",
       "      <td>608</td>\n",
       "      <td>Spain</td>\n",
       "      <td>Female</td>\n",
       "      <td>41</td>\n",
       "      <td>1</td>\n",
       "      <td>83807.86</td>\n",
       "      <td>1</td>\n",
       "      <td>0</td>\n",
       "      <td>1</td>\n",
       "      <td>112542.58</td>\n",
       "      <td>0</td>\n",
       "    </tr>\n",
       "    <tr>\n",
       "      <th>2</th>\n",
       "      <td>3</td>\n",
       "      <td>15619304</td>\n",
       "      <td>Onio</td>\n",
       "      <td>502</td>\n",
       "      <td>France</td>\n",
       "      <td>Female</td>\n",
       "      <td>42</td>\n",
       "      <td>8</td>\n",
       "      <td>159660.80</td>\n",
       "      <td>3</td>\n",
       "      <td>1</td>\n",
       "      <td>0</td>\n",
       "      <td>113931.57</td>\n",
       "      <td>1</td>\n",
       "    </tr>\n",
       "    <tr>\n",
       "      <th>3</th>\n",
       "      <td>4</td>\n",
       "      <td>15701354</td>\n",
       "      <td>Boni</td>\n",
       "      <td>699</td>\n",
       "      <td>France</td>\n",
       "      <td>Female</td>\n",
       "      <td>39</td>\n",
       "      <td>1</td>\n",
       "      <td>0.00</td>\n",
       "      <td>2</td>\n",
       "      <td>0</td>\n",
       "      <td>0</td>\n",
       "      <td>93826.63</td>\n",
       "      <td>0</td>\n",
       "    </tr>\n",
       "    <tr>\n",
       "      <th>4</th>\n",
       "      <td>5</td>\n",
       "      <td>15737888</td>\n",
       "      <td>Mitchell</td>\n",
       "      <td>850</td>\n",
       "      <td>Spain</td>\n",
       "      <td>Female</td>\n",
       "      <td>43</td>\n",
       "      <td>2</td>\n",
       "      <td>125510.82</td>\n",
       "      <td>1</td>\n",
       "      <td>1</td>\n",
       "      <td>1</td>\n",
       "      <td>79084.10</td>\n",
       "      <td>0</td>\n",
       "    </tr>\n",
       "  </tbody>\n",
       "</table>\n",
       "</div>"
      ],
      "text/plain": [
       "   RowNumber  CustomerId   Surname  ...  IsActiveMember EstimatedSalary Exited\n",
       "0          1    15634602  Hargrave  ...               1       101348.88      1\n",
       "1          2    15647311      Hill  ...               1       112542.58      0\n",
       "2          3    15619304      Onio  ...               0       113931.57      1\n",
       "3          4    15701354      Boni  ...               0        93826.63      0\n",
       "4          5    15737888  Mitchell  ...               1        79084.10      0\n",
       "\n",
       "[5 rows x 14 columns]"
      ]
     },
     "execution_count": 4,
     "metadata": {
      "tags": []
     },
     "output_type": "execute_result"
    }
   ],
   "source": [
    "data.head()"
   ]
  },
  {
   "cell_type": "markdown",
   "metadata": {
    "id": "rMs6lffBXkKM"
   },
   "source": [
    "## **EDA**"
   ]
  },
  {
   "cell_type": "code",
   "execution_count": 5,
   "metadata": {
    "colab": {
     "base_uri": "https://localhost:8080/",
     "height": 320
    },
    "id": "xfOSiaFfjshv",
    "outputId": "9bf5f8dc-982c-4d4a-8f6b-4caeb75328f0"
   },
   "outputs": [
    {
     "data": {
      "text/html": [
       "<div>\n",
       "<style scoped>\n",
       "    .dataframe tbody tr th:only-of-type {\n",
       "        vertical-align: middle;\n",
       "    }\n",
       "\n",
       "    .dataframe tbody tr th {\n",
       "        vertical-align: top;\n",
       "    }\n",
       "\n",
       "    .dataframe thead th {\n",
       "        text-align: right;\n",
       "    }\n",
       "</style>\n",
       "<table border=\"1\" class=\"dataframe\">\n",
       "  <thead>\n",
       "    <tr style=\"text-align: right;\">\n",
       "      <th></th>\n",
       "      <th>RowNumber</th>\n",
       "      <th>CustomerId</th>\n",
       "      <th>CreditScore</th>\n",
       "      <th>Age</th>\n",
       "      <th>Tenure</th>\n",
       "      <th>Balance</th>\n",
       "      <th>NumOfProducts</th>\n",
       "      <th>HasCrCard</th>\n",
       "      <th>IsActiveMember</th>\n",
       "      <th>EstimatedSalary</th>\n",
       "      <th>Exited</th>\n",
       "    </tr>\n",
       "  </thead>\n",
       "  <tbody>\n",
       "    <tr>\n",
       "      <th>count</th>\n",
       "      <td>10000.00000</td>\n",
       "      <td>1.000000e+04</td>\n",
       "      <td>10000.000000</td>\n",
       "      <td>10000.000000</td>\n",
       "      <td>10000.000000</td>\n",
       "      <td>10000.000000</td>\n",
       "      <td>10000.000000</td>\n",
       "      <td>10000.00000</td>\n",
       "      <td>10000.000000</td>\n",
       "      <td>10000.000000</td>\n",
       "      <td>10000.000000</td>\n",
       "    </tr>\n",
       "    <tr>\n",
       "      <th>mean</th>\n",
       "      <td>5000.50000</td>\n",
       "      <td>1.569094e+07</td>\n",
       "      <td>650.528800</td>\n",
       "      <td>38.921800</td>\n",
       "      <td>5.012800</td>\n",
       "      <td>76485.889288</td>\n",
       "      <td>1.530200</td>\n",
       "      <td>0.70550</td>\n",
       "      <td>0.515100</td>\n",
       "      <td>100090.239881</td>\n",
       "      <td>0.203700</td>\n",
       "    </tr>\n",
       "    <tr>\n",
       "      <th>std</th>\n",
       "      <td>2886.89568</td>\n",
       "      <td>7.193619e+04</td>\n",
       "      <td>96.653299</td>\n",
       "      <td>10.487806</td>\n",
       "      <td>2.892174</td>\n",
       "      <td>62397.405202</td>\n",
       "      <td>0.581654</td>\n",
       "      <td>0.45584</td>\n",
       "      <td>0.499797</td>\n",
       "      <td>57510.492818</td>\n",
       "      <td>0.402769</td>\n",
       "    </tr>\n",
       "    <tr>\n",
       "      <th>min</th>\n",
       "      <td>1.00000</td>\n",
       "      <td>1.556570e+07</td>\n",
       "      <td>350.000000</td>\n",
       "      <td>18.000000</td>\n",
       "      <td>0.000000</td>\n",
       "      <td>0.000000</td>\n",
       "      <td>1.000000</td>\n",
       "      <td>0.00000</td>\n",
       "      <td>0.000000</td>\n",
       "      <td>11.580000</td>\n",
       "      <td>0.000000</td>\n",
       "    </tr>\n",
       "    <tr>\n",
       "      <th>25%</th>\n",
       "      <td>2500.75000</td>\n",
       "      <td>1.562853e+07</td>\n",
       "      <td>584.000000</td>\n",
       "      <td>32.000000</td>\n",
       "      <td>3.000000</td>\n",
       "      <td>0.000000</td>\n",
       "      <td>1.000000</td>\n",
       "      <td>0.00000</td>\n",
       "      <td>0.000000</td>\n",
       "      <td>51002.110000</td>\n",
       "      <td>0.000000</td>\n",
       "    </tr>\n",
       "    <tr>\n",
       "      <th>50%</th>\n",
       "      <td>5000.50000</td>\n",
       "      <td>1.569074e+07</td>\n",
       "      <td>652.000000</td>\n",
       "      <td>37.000000</td>\n",
       "      <td>5.000000</td>\n",
       "      <td>97198.540000</td>\n",
       "      <td>1.000000</td>\n",
       "      <td>1.00000</td>\n",
       "      <td>1.000000</td>\n",
       "      <td>100193.915000</td>\n",
       "      <td>0.000000</td>\n",
       "    </tr>\n",
       "    <tr>\n",
       "      <th>75%</th>\n",
       "      <td>7500.25000</td>\n",
       "      <td>1.575323e+07</td>\n",
       "      <td>718.000000</td>\n",
       "      <td>44.000000</td>\n",
       "      <td>7.000000</td>\n",
       "      <td>127644.240000</td>\n",
       "      <td>2.000000</td>\n",
       "      <td>1.00000</td>\n",
       "      <td>1.000000</td>\n",
       "      <td>149388.247500</td>\n",
       "      <td>0.000000</td>\n",
       "    </tr>\n",
       "    <tr>\n",
       "      <th>max</th>\n",
       "      <td>10000.00000</td>\n",
       "      <td>1.581569e+07</td>\n",
       "      <td>850.000000</td>\n",
       "      <td>92.000000</td>\n",
       "      <td>10.000000</td>\n",
       "      <td>250898.090000</td>\n",
       "      <td>4.000000</td>\n",
       "      <td>1.00000</td>\n",
       "      <td>1.000000</td>\n",
       "      <td>199992.480000</td>\n",
       "      <td>1.000000</td>\n",
       "    </tr>\n",
       "  </tbody>\n",
       "</table>\n",
       "</div>"
      ],
      "text/plain": [
       "         RowNumber    CustomerId  ...  EstimatedSalary        Exited\n",
       "count  10000.00000  1.000000e+04  ...     10000.000000  10000.000000\n",
       "mean    5000.50000  1.569094e+07  ...    100090.239881      0.203700\n",
       "std     2886.89568  7.193619e+04  ...     57510.492818      0.402769\n",
       "min        1.00000  1.556570e+07  ...        11.580000      0.000000\n",
       "25%     2500.75000  1.562853e+07  ...     51002.110000      0.000000\n",
       "50%     5000.50000  1.569074e+07  ...    100193.915000      0.000000\n",
       "75%     7500.25000  1.575323e+07  ...    149388.247500      0.000000\n",
       "max    10000.00000  1.581569e+07  ...    199992.480000      1.000000\n",
       "\n",
       "[8 rows x 11 columns]"
      ]
     },
     "execution_count": 5,
     "metadata": {
      "tags": []
     },
     "output_type": "execute_result"
    }
   ],
   "source": [
    "data.describe()"
   ]
  },
  {
   "cell_type": "code",
   "execution_count": 6,
   "metadata": {
    "colab": {
     "base_uri": "https://localhost:8080/"
    },
    "id": "IZ6Ft8hWhdBT",
    "outputId": "a9b910e4-34bb-472e-e2d2-c9f42a2523b6"
   },
   "outputs": [
    {
     "data": {
      "text/plain": [
       "array(['France', 'Spain', 'Germany'], dtype=object)"
      ]
     },
     "execution_count": 6,
     "metadata": {
      "tags": []
     },
     "output_type": "execute_result"
    }
   ],
   "source": [
    "data[\"Geography\"].unique()"
   ]
  },
  {
   "cell_type": "code",
   "execution_count": 7,
   "metadata": {
    "id": "7Zfw5tl6ebKS"
   },
   "outputs": [],
   "source": [
    "le= LabelEncoder()\n",
    "le.fit(data[\"Geography\"].values)\n",
    "data[\"Geography\"]= le.transform(data[\"Geography\"].values)\n",
    "le.fit(data[\"Gender\"].values)\n",
    "data[\"Gender\"]= le.transform(data[\"Gender\"].values)"
   ]
  },
  {
   "cell_type": "code",
   "execution_count": 8,
   "metadata": {
    "colab": {
     "base_uri": "https://localhost:8080/",
     "height": 297
    },
    "id": "aFEUYzRTjR2e",
    "outputId": "c96fdad3-540e-4935-bece-8abb8bccf083"
   },
   "outputs": [
    {
     "data": {
      "text/plain": [
       "<matplotlib.axes._subplots.AxesSubplot at 0x7f89ce2fc1d0>"
      ]
     },
     "execution_count": 8,
     "metadata": {
      "tags": []
     },
     "output_type": "execute_result"
    },
    {
     "data": {
      "image/png": "[encoded data removed]",
      "text/plain": [
       "<Figure size 432x288 with 1 Axes>"
      ]
     },
     "metadata": {
      "needs_background": "light",
      "tags": []
     },
     "output_type": "display_data"
    }
   ],
   "source": [
    "sns.countplot(x='Exited',data=data)"
   ]
  },
  {
   "cell_type": "code",
   "execution_count": 9,
   "metadata": {
    "colab": {
     "base_uri": "https://localhost:8080/",
     "height": 359
    },
    "id": "fwLabHDNinHG",
    "outputId": "4a83d1bd-4215-4493-d86a-babe6a94c873"
   },
   "outputs": [
    {
     "data": {
      "text/plain": [
       "<matplotlib.axes._subplots.AxesSubplot at 0x7f898b08dc50>"
      ]
     },
     "execution_count": 9,
     "metadata": {
      "tags": []
     },
     "output_type": "execute_result"
    },
    {
     "data": {
      "image/png": "[encoded data removed]",
      "text/plain": [
       "<Figure size 432x288 with 2 Axes>"
      ]
     },
     "metadata": {
      "needs_background": "light",
      "tags": []
     },
     "output_type": "display_data"
    }
   ],
   "source": [
    "sns.heatmap(data.corr())"
   ]
  },
  {
   "cell_type": "code",
   "execution_count": 10,
   "metadata": {
    "colab": {
     "base_uri": "https://localhost:8080/"
    },
    "id": "_LMmk5nmi2kh",
    "outputId": "074ebc0b-a354-4a83-dd0d-861f00a759d5"
   },
   "outputs": [
    {
     "data": {
      "text/plain": [
       "IsActiveMember    -0.156128\n",
       "Gender            -0.106512\n",
       "NumOfProducts     -0.047820\n",
       "CreditScore       -0.027094\n",
       "RowNumber         -0.016571\n",
       "Tenure            -0.014001\n",
       "HasCrCard         -0.007138\n",
       "CustomerId        -0.006248\n",
       "EstimatedSalary    0.012097\n",
       "Geography          0.035943\n",
       "Balance            0.118533\n",
       "Age                0.285323\n",
       "Exited             1.000000\n",
       "Name: Exited, dtype: float64"
      ]
     },
     "execution_count": 10,
     "metadata": {
      "tags": []
     },
     "output_type": "execute_result"
    }
   ],
   "source": [
    "data.corr()['Exited'].sort_values()"
   ]
  },
  {
   "cell_type": "code",
   "execution_count": 11,
   "metadata": {
    "colab": {
     "base_uri": "https://localhost:8080/",
     "height": 226
    },
    "id": "snnoRC-XwXPG",
    "outputId": "5f8a686c-0c83-4dde-8483-228844e1b596"
   },
   "outputs": [
    {
     "data": {
      "text/html": [
       "<div>\n",
       "<style scoped>\n",
       "    .dataframe tbody tr th:only-of-type {\n",
       "        vertical-align: middle;\n",
       "    }\n",
       "\n",
       "    .dataframe tbody tr th {\n",
       "        vertical-align: top;\n",
       "    }\n",
       "\n",
       "    .dataframe thead th {\n",
       "        text-align: right;\n",
       "    }\n",
       "</style>\n",
       "<table border=\"1\" class=\"dataframe\">\n",
       "  <thead>\n",
       "    <tr style=\"text-align: right;\">\n",
       "      <th></th>\n",
       "      <th>RowNumber</th>\n",
       "      <th>CustomerId</th>\n",
       "      <th>Surname</th>\n",
       "      <th>CreditScore</th>\n",
       "      <th>Geography</th>\n",
       "      <th>Gender</th>\n",
       "      <th>Age</th>\n",
       "      <th>Tenure</th>\n",
       "      <th>Balance</th>\n",
       "      <th>NumOfProducts</th>\n",
       "      <th>HasCrCard</th>\n",
       "      <th>IsActiveMember</th>\n",
       "      <th>EstimatedSalary</th>\n",
       "      <th>Exited</th>\n",
       "    </tr>\n",
       "  </thead>\n",
       "  <tbody>\n",
       "    <tr>\n",
       "      <th>0</th>\n",
       "      <td>1</td>\n",
       "      <td>15634602</td>\n",
       "      <td>Hargrave</td>\n",
       "      <td>619</td>\n",
       "      <td>0</td>\n",
       "      <td>0</td>\n",
       "      <td>42</td>\n",
       "      <td>2</td>\n",
       "      <td>0.00</td>\n",
       "      <td>1</td>\n",
       "      <td>1</td>\n",
       "      <td>1</td>\n",
       "      <td>101348.88</td>\n",
       "      <td>1</td>\n",
       "    </tr>\n",
       "    <tr>\n",
       "      <th>1</th>\n",
       "      <td>2</td>\n",
       "      <td>15647311</td>\n",
       "      <td>Hill</td>\n",
       "      <td>608</td>\n",
       "      <td>2</td>\n",
       "      <td>0</td>\n",
       "      <td>41</td>\n",
       "      <td>1</td>\n",
       "      <td>83807.86</td>\n",
       "      <td>1</td>\n",
       "      <td>0</td>\n",
       "      <td>1</td>\n",
       "      <td>112542.58</td>\n",
       "      <td>0</td>\n",
       "    </tr>\n",
       "    <tr>\n",
       "      <th>2</th>\n",
       "      <td>3</td>\n",
       "      <td>15619304</td>\n",
       "      <td>Onio</td>\n",
       "      <td>502</td>\n",
       "      <td>0</td>\n",
       "      <td>0</td>\n",
       "      <td>42</td>\n",
       "      <td>8</td>\n",
       "      <td>159660.80</td>\n",
       "      <td>3</td>\n",
       "      <td>1</td>\n",
       "      <td>0</td>\n",
       "      <td>113931.57</td>\n",
       "      <td>1</td>\n",
       "    </tr>\n",
       "    <tr>\n",
       "      <th>3</th>\n",
       "      <td>4</td>\n",
       "      <td>15701354</td>\n",
       "      <td>Boni</td>\n",
       "      <td>699</td>\n",
       "      <td>0</td>\n",
       "      <td>0</td>\n",
       "      <td>39</td>\n",
       "      <td>1</td>\n",
       "      <td>0.00</td>\n",
       "      <td>2</td>\n",
       "      <td>0</td>\n",
       "      <td>0</td>\n",
       "      <td>93826.63</td>\n",
       "      <td>0</td>\n",
       "    </tr>\n",
       "    <tr>\n",
       "      <th>4</th>\n",
       "      <td>5</td>\n",
       "      <td>15737888</td>\n",
       "      <td>Mitchell</td>\n",
       "      <td>850</td>\n",
       "      <td>2</td>\n",
       "      <td>0</td>\n",
       "      <td>43</td>\n",
       "      <td>2</td>\n",
       "      <td>125510.82</td>\n",
       "      <td>1</td>\n",
       "      <td>1</td>\n",
       "      <td>1</td>\n",
       "      <td>79084.10</td>\n",
       "      <td>0</td>\n",
       "    </tr>\n",
       "  </tbody>\n",
       "</table>\n",
       "</div>"
      ],
      "text/plain": [
       "   RowNumber  CustomerId   Surname  ...  IsActiveMember  EstimatedSalary  Exited\n",
       "0          1    15634602  Hargrave  ...               1        101348.88       1\n",
       "1          2    15647311      Hill  ...               1        112542.58       0\n",
       "2          3    15619304      Onio  ...               0        113931.57       1\n",
       "3          4    15701354      Boni  ...               0         93826.63       0\n",
       "4          5    15737888  Mitchell  ...               1         79084.10       0\n",
       "\n",
       "[5 rows x 14 columns]"
      ]
     },
     "execution_count": 11,
     "metadata": {
      "tags": []
     },
     "output_type": "execute_result"
    }
   ],
   "source": [
    "data.head()"
   ]
  },
  {
   "cell_type": "code",
   "execution_count": 12,
   "metadata": {
    "id": "fm96_P2KwZyF"
   },
   "outputs": [],
   "source": [
    "data= data.drop(\"RowNumber\", axis=1)\n",
    "data= data.drop(\"CustomerId\", axis=1)\n",
    "data= data.drop(\"Surname\", axis=1)"
   ]
  },
  {
   "cell_type": "markdown",
   "metadata": {
    "id": "Z5HJE3CBX16d"
   },
   "source": [
    "## **Preparing Data for Modelling**"
   ]
  },
  {
   "cell_type": "code",
   "execution_count": 13,
   "metadata": {
    "id": "9buzn4DBxUvd"
   },
   "outputs": [],
   "source": [
    "X = data.drop('Exited',axis=1).values\n",
    "y = data['Exited'].values"
   ]
  },
  {
   "cell_type": "code",
   "execution_count": 14,
   "metadata": {
    "id": "tuVlliXMxuxk"
   },
   "outputs": [],
   "source": [
    "X_train, X_test, y_train, y_test = train_test_split(X,y,test_size=0.2,random_state=101)"
   ]
  },
  {
   "cell_type": "markdown",
   "metadata": {
    "id": "AQbxexW1X8fN"
   },
   "source": [
    "### **Feature Scaling**"
   ]
  },
  {
   "cell_type": "code",
   "execution_count": 15,
   "metadata": {
    "id": "SlLFmilhx67q"
   },
   "outputs": [],
   "source": [
    "scaler = MinMaxScaler()\n",
    "scaler.fit(X_train)\n",
    "X_train = scaler.transform(X_train)\n",
    "X_test = scaler.transform(X_test)"
   ]
  },
  {
   "cell_type": "markdown",
   "metadata": {
    "id": "MaslJyARYDcY"
   },
   "source": [
    "## **Modelling**"
   ]
  },
  {
   "cell_type": "code",
   "execution_count": 16,
   "metadata": {
    "colab": {
     "base_uri": "https://localhost:8080/"
    },
    "id": "-MTnbj7iyG0M",
    "outputId": "df1353be-ccaf-4554-ea90-9983da87ef94"
   },
   "outputs": [
    {
     "data": {
      "text/plain": [
       "(8000, 10)"
      ]
     },
     "execution_count": 16,
     "metadata": {
      "tags": []
     },
     "output_type": "execute_result"
    }
   ],
   "source": [
    "X_train.shape"
   ]
  },
  {
   "cell_type": "code",
   "execution_count": 17,
   "metadata": {
    "colab": {
     "base_uri": "https://localhost:8080/"
    },
    "id": "vxfaUf3zyIrC",
    "outputId": "a9f60ebe-7684-4500-a653-18620083f875"
   },
   "outputs": [
    {
     "data": {
      "text/plain": [
       "(2000, 10)"
      ]
     },
     "execution_count": 17,
     "metadata": {
      "tags": []
     },
     "output_type": "execute_result"
    }
   ],
   "source": [
    "X_test.shape"
   ]
  },
  {
   "cell_type": "markdown",
   "metadata": {
    "id": "RJQfCCOYDlg_"
   },
   "source": [
    "### Hyperparameter Tunining"
   ]
  },
  {
   "cell_type": "code",
   "execution_count": 18,
   "metadata": {
    "id": "cScAXAimw0Vy"
   },
   "outputs": [],
   "source": [
    "stopper = EarlyStopping(monitor='accuracy', mode='max', verbose=1, patience=30)"
   ]
  },
  {
   "cell_type": "code",
   "execution_count": 19,
   "metadata": {
    "id": "lxAOvQxyDSyH"
   },
   "outputs": [],
   "source": [
    "def model_create(optimizer= 'adam', dropout_rate= 0.0, learn_rate=0.0001):\n",
    "  model = Sequential()\n",
    "  model.add(Dense(units=10,activation='relu'))  \n",
    "  model.add(Dense(units=7,activation='relu'))\n",
    "  model.add(Dropout(dropout_rate))\n",
    "  model.add(Dense(units=7,activation='relu'))\n",
    "  model.add(Dropout(dropout_rate))\n",
    "  model.add(Dense(units=7,activation='relu'))\n",
    "  model.add(Dropout(dropout_rate))  \n",
    "  model.add(Dense(units=1,activation='sigmoid'))\n",
    "  # For a binary classification problem\n",
    "  optimizer=tf.keras.optimizers.Adam(lr= learn_rate)\n",
    "  model.compile(loss='binary_crossentropy', optimizer=optimizer, metrics=['accuracy'])\n",
    "  return model"
   ]
  },
  {
   "cell_type": "code",
   "execution_count": 20,
   "metadata": {
    "id": "yxXSJLhWFBrk"
   },
   "outputs": [],
   "source": [
    "model = KerasClassifier(build_fn=model_create, epochs=1000, verbose=0)"
   ]
  },
  {
   "cell_type": "code",
   "execution_count": 21,
   "metadata": {
    "colab": {
     "base_uri": "https://localhost:8080/"
    },
    "id": "U2N4OrGcDP5O",
    "outputId": "75eb2034-a88c-4778-fb94-121789473f2c"
   },
   "outputs": [
    {
     "name": "stdout",
     "output_type": "stream",
     "text": [
      "Epoch 00123: early stopping\n",
      "Best: 0.856000 using {'optimizer': 'Adam', 'learn_rate': 0.01, 'dropout_rate': 0.0}\n",
      "0.798250 (0.003250) with: {'optimizer': 'Adam', 'learn_rate': 0.5, 'dropout_rate': 0.5}\n",
      "0.798250 (0.003250) with: {'optimizer': 'Adagrad', 'learn_rate': 0.0001, 'dropout_rate': 0.5}\n",
      "0.798250 (0.003250) with: {'optimizer': 'Adagrad', 'learn_rate': 0.5, 'dropout_rate': 0.1}\n",
      "0.808875 (0.007375) with: {'optimizer': 'Adagrad', 'learn_rate': 0.001, 'dropout_rate': 0.4}\n",
      "0.798250 (0.003250) with: {'optimizer': 'Adam', 'learn_rate': 0.0001, 'dropout_rate': 0.2}\n",
      "0.821250 (0.026250) with: {'optimizer': 'RMSprop', 'learn_rate': 0.001, 'dropout_rate': 0.1}\n",
      "0.798250 (0.003250) with: {'optimizer': 'Adam', 'learn_rate': 0.05, 'dropout_rate': 0.5}\n",
      "0.798250 (0.003250) with: {'optimizer': 'SGD', 'learn_rate': 0.1, 'dropout_rate': 0.4}\n",
      "0.851500 (0.004250) with: {'optimizer': 'RMSprop', 'learn_rate': 0.01, 'dropout_rate': 0.0}\n",
      "0.798250 (0.003250) with: {'optimizer': 'Adam', 'learn_rate': 0.05, 'dropout_rate': 0.2}\n",
      "0.798250 (0.003250) with: {'optimizer': 'RMSprop', 'learn_rate': 0.5, 'dropout_rate': 0.3}\n",
      "0.812000 (0.017000) with: {'optimizer': 'Adagrad', 'learn_rate': 0.01, 'dropout_rate': 0.5}\n",
      "0.798250 (0.003250) with: {'optimizer': 'Adagrad', 'learn_rate': 0.0001, 'dropout_rate': 0.4}\n",
      "0.798250 (0.003250) with: {'optimizer': 'Adagrad', 'learn_rate': 0.0001, 'dropout_rate': 0.0}\n",
      "0.798250 (0.003250) with: {'optimizer': 'Adam', 'learn_rate': 0.5, 'dropout_rate': 0.4}\n",
      "0.798250 (0.003250) with: {'optimizer': 'Adagrad', 'learn_rate': 0.5, 'dropout_rate': 0.0}\n",
      "0.852500 (0.004250) with: {'optimizer': 'Adagrad', 'learn_rate': 0.001, 'dropout_rate': 0.1}\n",
      "0.816250 (0.021250) with: {'optimizer': 'SGD', 'learn_rate': 0.05, 'dropout_rate': 0.0}\n",
      "0.856000 (0.007000) with: {'optimizer': 'Adam', 'learn_rate': 0.01, 'dropout_rate': 0.0}\n",
      "0.798250 (0.003250) with: {'optimizer': 'SGD', 'learn_rate': 0.1, 'dropout_rate': 0.0}\n",
      "0.824875 (0.029875) with: {'optimizer': 'Adagrad', 'learn_rate': 0.001, 'dropout_rate': 0.2}\n",
      "0.798250 (0.003250) with: {'optimizer': 'SGD', 'learn_rate': 0.0001, 'dropout_rate': 0.0}\n",
      "0.812000 (0.017000) with: {'optimizer': 'SGD', 'learn_rate': 0.001, 'dropout_rate': 0.4}\n",
      "0.798250 (0.003250) with: {'optimizer': 'Adam', 'learn_rate': 0.05, 'dropout_rate': 0.4}\n",
      "0.811875 (0.016875) with: {'optimizer': 'SGD', 'learn_rate': 0.01, 'dropout_rate': 0.5}\n",
      "0.831500 (0.011500) with: {'optimizer': 'Adam', 'learn_rate': 0.05, 'dropout_rate': 0.0}\n",
      "0.798250 (0.003250) with: {'optimizer': 'SGD', 'learn_rate': 0.05, 'dropout_rate': 0.2}\n",
      "0.798250 (0.003250) with: {'optimizer': 'RMSprop', 'learn_rate': 0.0001, 'dropout_rate': 0.2}\n",
      "0.798250 (0.003250) with: {'optimizer': 'Adagrad', 'learn_rate': 0.5, 'dropout_rate': 0.3}\n",
      "0.823625 (0.028625) with: {'optimizer': 'RMSprop', 'learn_rate': 0.01, 'dropout_rate': 0.4}\n",
      "CPU times: user 48.5 s, sys: 4.63 s, total: 53.2 s\n",
      "Wall time: 8min 53s\n"
     ]
    }
   ],
   "source": [
    "%%time\n",
    "\n",
    "optimizer = ['SGD', 'RMSprop', 'Adagrad', 'Adam']\n",
    "learn_rate = [0.0001, 0.001, 0.01, 0.05, 0.1, 0.5]\n",
    "dropout_rate = [0.0, 0.1, 0.2, 0.3, 0.4, 0.5]\n",
    "param_grid = dict(optimizer=optimizer, learn_rate=learn_rate, dropout_rate= dropout_rate)\n",
    "grid = RandomizedSearchCV(estimator=model, param_distributions=param_grid, n_jobs=-1, cv=2, n_iter=30, random_state=11)\n",
    "fit_params = dict(callbacks=[stopper])\n",
    "grid_result = grid.fit(X_train, y_train, **fit_params)\n",
    "print(\"Best: %f using %s\" % (grid_result.best_score_, grid_result.best_params_))\n",
    "means = grid_result.cv_results_['mean_test_score']\n",
    "stds = grid_result.cv_results_['std_test_score']\n",
    "params = grid_result.cv_results_['params']\n",
    "for mean, stdev, param in zip(means, stds, params):\n",
    "    print(\"%f (%f) with: %r\" % (mean, stdev, param))"
   ]
  },
  {
   "cell_type": "markdown",
   "metadata": {
    "id": "VQM4pMD_D4YE"
   },
   "source": [
    "### Final Architecture"
   ]
  },
  {
   "cell_type": "code",
   "execution_count": 22,
   "metadata": {
    "id": "qupwFY3rI1Mo"
   },
   "outputs": [],
   "source": [
    "model = Sequential()\n",
    "model.add(Dense(units=10, activation='relu'))  \n",
    "model.add(Dense(units=7,activation='relu'))\n",
    "model.add(Dropout(0.0))\n",
    "model.add(Dense(units=7,activation='relu'))\n",
    "model.add(Dropout(0.0))\n",
    "model.add(Dense(units=7,activation='relu'))\n",
    "model.add(Dropout(0.0))\n",
    "\n",
    "model.add(Dense(units=1,activation='sigmoid'))\n",
    "\n",
    "# For a binary classification problem\n",
    "model.compile(loss='binary_crossentropy', optimizer= tf.keras.optimizers.Adam(0.01))\n"
   ]
  },
  {
   "cell_type": "markdown",
   "metadata": {
    "id": "zTq8paGpYaYN"
   },
   "source": [
    "## **Training**"
   ]
  },
  {
   "cell_type": "code",
   "execution_count": 23,
   "metadata": {
    "id": "b2H4xtyNK77i"
   },
   "outputs": [],
   "source": [
    "early_stop = EarlyStopping(monitor='val_loss', mode='min', verbose=1, patience=30)"
   ]
  },
  {
   "cell_type": "code",
   "execution_count": 24,
   "metadata": {
    "colab": {
     "base_uri": "https://localhost:8080/"
    },
    "id": "MrTLQaNFye5l",
    "outputId": "5770679a-a8bb-4f45-f2c5-53e52d8e36bc"
   },
   "outputs": [
    {
     "name": "stdout",
     "output_type": "stream",
     "text": [
      "Epoch 1/1000\n",
      "250/250 [==============================] - 1s 3ms/step - loss: 0.5242 - val_loss: 0.4868\n",
      "Epoch 2/1000\n",
      "250/250 [==============================] - 1s 2ms/step - loss: 0.4381 - val_loss: 0.4317\n",
      "Epoch 3/1000\n",
      "250/250 [==============================] - 0s 2ms/step - loss: 0.4356 - val_loss: 0.4161\n",
      "Epoch 4/1000\n",
      "250/250 [==============================] - 0s 2ms/step - loss: 0.4267 - val_loss: 0.4084\n",
      "Epoch 5/1000\n",
      "250/250 [==============================] - 0s 2ms/step - loss: 0.4130 - val_loss: 0.4242\n",
      "Epoch 6/1000\n",
      "250/250 [==============================] - 0s 2ms/step - loss: 0.4007 - val_loss: 0.4046\n",
      "Epoch 7/1000\n",
      "250/250 [==============================] - 1s 2ms/step - loss: 0.4161 - val_loss: 0.3909\n",
      "Epoch 8/1000\n",
      "250/250 [==============================] - 0s 2ms/step - loss: 0.4103 - val_loss: 0.3932\n",
      "Epoch 9/1000\n",
      "250/250 [==============================] - 0s 2ms/step - loss: 0.3896 - val_loss: 0.3802\n",
      "Epoch 10/1000\n",
      "250/250 [==============================] - 1s 2ms/step - loss: 0.3908 - val_loss: 0.3859\n",
      "Epoch 11/1000\n",
      "250/250 [==============================] - 0s 2ms/step - loss: 0.3851 - val_loss: 0.3656\n",
      "Epoch 12/1000\n",
      "250/250 [==============================] - 0s 2ms/step - loss: 0.3719 - val_loss: 0.3618\n",
      "Epoch 13/1000\n",
      "250/250 [==============================] - 0s 2ms/step - loss: 0.3734 - val_loss: 0.3725\n",
      "Epoch 14/1000\n",
      "250/250 [==============================] - 1s 2ms/step - loss: 0.3693 - val_loss: 0.3502\n",
      "Epoch 15/1000\n",
      "250/250 [==============================] - 1s 2ms/step - loss: 0.3698 - val_loss: 0.3416\n",
      "Epoch 16/1000\n",
      "250/250 [==============================] - 1s 2ms/step - loss: 0.3614 - val_loss: 0.3485\n",
      "Epoch 17/1000\n",
      "250/250 [==============================] - 0s 2ms/step - loss: 0.3510 - val_loss: 0.3382\n",
      "Epoch 18/1000\n",
      "250/250 [==============================] - 0s 2ms/step - loss: 0.3534 - val_loss: 0.3344\n",
      "Epoch 19/1000\n",
      "250/250 [==============================] - 0s 2ms/step - loss: 0.3514 - val_loss: 0.3402\n",
      "Epoch 20/1000\n",
      "250/250 [==============================] - 1s 2ms/step - loss: 0.3642 - val_loss: 0.3470\n",
      "Epoch 21/1000\n",
      "250/250 [==============================] - 0s 2ms/step - loss: 0.3479 - val_loss: 0.3378\n",
      "Epoch 22/1000\n",
      "250/250 [==============================] - 1s 2ms/step - loss: 0.3525 - val_loss: 0.3352\n",
      "Epoch 23/1000\n",
      "250/250 [==============================] - 1s 2ms/step - loss: 0.3581 - val_loss: 0.3336\n",
      "Epoch 24/1000\n",
      "250/250 [==============================] - 1s 2ms/step - loss: 0.3528 - val_loss: 0.3409\n",
      "Epoch 25/1000\n",
      "250/250 [==============================] - 0s 2ms/step - loss: 0.3522 - val_loss: 0.3282\n",
      "Epoch 26/1000\n",
      "250/250 [==============================] - 1s 2ms/step - loss: 0.3436 - val_loss: 0.3338\n",
      "Epoch 27/1000\n",
      "250/250 [==============================] - 0s 2ms/step - loss: 0.3585 - val_loss: 0.3308\n",
      "Epoch 28/1000\n",
      "250/250 [==============================] - 0s 2ms/step - loss: 0.3508 - val_loss: 0.3350\n",
      "Epoch 29/1000\n",
      "250/250 [==============================] - 0s 2ms/step - loss: 0.3411 - val_loss: 0.3333\n",
      "Epoch 30/1000\n",
      "250/250 [==============================] - 0s 2ms/step - loss: 0.3421 - val_loss: 0.3311\n",
      "Epoch 31/1000\n",
      "250/250 [==============================] - 1s 2ms/step - loss: 0.3462 - val_loss: 0.3306\n",
      "Epoch 32/1000\n",
      "250/250 [==============================] - 1s 2ms/step - loss: 0.3385 - val_loss: 0.3466\n",
      "Epoch 33/1000\n",
      "250/250 [==============================] - 0s 2ms/step - loss: 0.3376 - val_loss: 0.3459\n",
      "Epoch 34/1000\n",
      "250/250 [==============================] - 0s 2ms/step - loss: 0.3437 - val_loss: 0.3284\n",
      "Epoch 35/1000\n",
      "250/250 [==============================] - 0s 2ms/step - loss: 0.3299 - val_loss: 0.3329\n",
      "Epoch 36/1000\n",
      "250/250 [==============================] - 1s 2ms/step - loss: 0.3494 - val_loss: 0.3302\n",
      "Epoch 37/1000\n",
      "250/250 [==============================] - 0s 2ms/step - loss: 0.3394 - val_loss: 0.3353\n",
      "Epoch 38/1000\n",
      "250/250 [==============================] - 1s 2ms/step - loss: 0.3398 - val_loss: 0.3235\n",
      "Epoch 39/1000\n",
      "250/250 [==============================] - 0s 2ms/step - loss: 0.3392 - val_loss: 0.3387\n",
      "Epoch 40/1000\n",
      "250/250 [==============================] - 0s 2ms/step - loss: 0.3498 - val_loss: 0.3279\n",
      "Epoch 41/1000\n",
      "250/250 [==============================] - 0s 2ms/step - loss: 0.3570 - val_loss: 0.3272\n",
      "Epoch 42/1000\n",
      "250/250 [==============================] - 0s 2ms/step - loss: 0.3341 - val_loss: 0.3306\n",
      "Epoch 43/1000\n",
      "250/250 [==============================] - 0s 2ms/step - loss: 0.3284 - val_loss: 0.3411\n",
      "Epoch 44/1000\n",
      "250/250 [==============================] - 0s 2ms/step - loss: 0.3428 - val_loss: 0.3300\n",
      "Epoch 45/1000\n",
      "250/250 [==============================] - 0s 2ms/step - loss: 0.3438 - val_loss: 0.3308\n",
      "Epoch 46/1000\n",
      "250/250 [==============================] - 1s 2ms/step - loss: 0.3341 - val_loss: 0.3274\n",
      "Epoch 47/1000\n",
      "250/250 [==============================] - 0s 2ms/step - loss: 0.3489 - val_loss: 0.3320\n",
      "Epoch 48/1000\n",
      "250/250 [==============================] - 0s 2ms/step - loss: 0.3299 - val_loss: 0.3383\n",
      "Epoch 49/1000\n",
      "250/250 [==============================] - 0s 2ms/step - loss: 0.3382 - val_loss: 0.3270\n",
      "Epoch 50/1000\n",
      "250/250 [==============================] - 0s 2ms/step - loss: 0.3372 - val_loss: 0.3277\n",
      "Epoch 51/1000\n",
      "250/250 [==============================] - 1s 2ms/step - loss: 0.3480 - val_loss: 0.3276\n",
      "Epoch 52/1000\n",
      "250/250 [==============================] - 1s 2ms/step - loss: 0.3292 - val_loss: 0.3352\n",
      "Epoch 53/1000\n",
      "250/250 [==============================] - 1s 2ms/step - loss: 0.3372 - val_loss: 0.3307\n",
      "Epoch 54/1000\n",
      "250/250 [==============================] - 0s 2ms/step - loss: 0.3460 - val_loss: 0.3305\n",
      "Epoch 55/1000\n",
      "250/250 [==============================] - 0s 2ms/step - loss: 0.3508 - val_loss: 0.3301\n",
      "Epoch 56/1000\n",
      "250/250 [==============================] - 1s 2ms/step - loss: 0.3337 - val_loss: 0.3296\n",
      "Epoch 57/1000\n",
      "250/250 [==============================] - 1s 2ms/step - loss: 0.3344 - val_loss: 0.3246\n",
      "Epoch 58/1000\n",
      "250/250 [==============================] - 1s 2ms/step - loss: 0.3306 - val_loss: 0.3293\n",
      "Epoch 59/1000\n",
      "250/250 [==============================] - 1s 2ms/step - loss: 0.3393 - val_loss: 0.3259\n",
      "Epoch 60/1000\n",
      "250/250 [==============================] - 1s 2ms/step - loss: 0.3412 - val_loss: 0.3331\n",
      "Epoch 61/1000\n",
      "250/250 [==============================] - 0s 2ms/step - loss: 0.3406 - val_loss: 0.3224\n",
      "Epoch 62/1000\n",
      "250/250 [==============================] - 1s 2ms/step - loss: 0.3404 - val_loss: 0.3265\n",
      "Epoch 63/1000\n",
      "250/250 [==============================] - 1s 2ms/step - loss: 0.3418 - val_loss: 0.3244\n",
      "Epoch 64/1000\n",
      "250/250 [==============================] - 0s 2ms/step - loss: 0.3439 - val_loss: 0.3276\n",
      "Epoch 65/1000\n",
      "250/250 [==============================] - 0s 2ms/step - loss: 0.3370 - val_loss: 0.3288\n",
      "Epoch 66/1000\n",
      "250/250 [==============================] - 0s 2ms/step - loss: 0.3280 - val_loss: 0.3315\n",
      "Epoch 67/1000\n",
      "250/250 [==============================] - 0s 2ms/step - loss: 0.3391 - val_loss: 0.3304\n",
      "Epoch 68/1000\n",
      "250/250 [==============================] - 1s 2ms/step - loss: 0.3337 - val_loss: 0.3346\n",
      "Epoch 69/1000\n",
      "250/250 [==============================] - 1s 2ms/step - loss: 0.3407 - val_loss: 0.3313\n",
      "Epoch 70/1000\n",
      "250/250 [==============================] - 0s 2ms/step - loss: 0.3408 - val_loss: 0.3386\n",
      "Epoch 71/1000\n",
      "250/250 [==============================] - 1s 2ms/step - loss: 0.3532 - val_loss: 0.3272\n",
      "Epoch 72/1000\n",
      "250/250 [==============================] - 0s 2ms/step - loss: 0.3375 - val_loss: 0.3254\n",
      "Epoch 73/1000\n",
      "250/250 [==============================] - 0s 2ms/step - loss: 0.3358 - val_loss: 0.3273\n",
      "Epoch 74/1000\n",
      "250/250 [==============================] - 1s 2ms/step - loss: 0.3358 - val_loss: 0.3222\n",
      "Epoch 75/1000\n",
      "250/250 [==============================] - 1s 2ms/step - loss: 0.3424 - val_loss: 0.3266\n",
      "Epoch 76/1000\n",
      "250/250 [==============================] - 1s 2ms/step - loss: 0.3356 - val_loss: 0.3389\n",
      "Epoch 77/1000\n",
      "250/250 [==============================] - 1s 2ms/step - loss: 0.3369 - val_loss: 0.3344\n",
      "Epoch 78/1000\n",
      "250/250 [==============================] - 1s 2ms/step - loss: 0.3329 - val_loss: 0.3286\n",
      "Epoch 79/1000\n",
      "250/250 [==============================] - 1s 2ms/step - loss: 0.3455 - val_loss: 0.3282\n",
      "Epoch 80/1000\n",
      "250/250 [==============================] - 1s 2ms/step - loss: 0.3300 - val_loss: 0.3289\n",
      "Epoch 81/1000\n",
      "250/250 [==============================] - 1s 2ms/step - loss: 0.3411 - val_loss: 0.3271\n",
      "Epoch 82/1000\n",
      "250/250 [==============================] - 1s 2ms/step - loss: 0.3477 - val_loss: 0.3262\n",
      "Epoch 83/1000\n",
      "250/250 [==============================] - 1s 2ms/step - loss: 0.3292 - val_loss: 0.3278\n",
      "Epoch 84/1000\n",
      "250/250 [==============================] - 1s 2ms/step - loss: 0.3435 - val_loss: 0.3277\n",
      "Epoch 85/1000\n",
      "250/250 [==============================] - 1s 2ms/step - loss: 0.3294 - val_loss: 0.3251\n",
      "Epoch 86/1000\n",
      "250/250 [==============================] - 0s 2ms/step - loss: 0.3277 - val_loss: 0.3285\n",
      "Epoch 87/1000\n",
      "250/250 [==============================] - 1s 2ms/step - loss: 0.3370 - val_loss: 0.3236\n",
      "Epoch 88/1000\n",
      "250/250 [==============================] - 0s 2ms/step - loss: 0.3257 - val_loss: 0.3375\n",
      "Epoch 89/1000\n",
      "250/250 [==============================] - 1s 2ms/step - loss: 0.3423 - val_loss: 0.3462\n",
      "Epoch 90/1000\n",
      "250/250 [==============================] - 1s 2ms/step - loss: 0.3423 - val_loss: 0.3339\n",
      "Epoch 91/1000\n",
      "250/250 [==============================] - 1s 2ms/step - loss: 0.3462 - val_loss: 0.3276\n",
      "Epoch 92/1000\n",
      "250/250 [==============================] - 0s 2ms/step - loss: 0.3501 - val_loss: 0.3245\n",
      "Epoch 93/1000\n",
      "250/250 [==============================] - 1s 2ms/step - loss: 0.3296 - val_loss: 0.3291\n",
      "Epoch 94/1000\n",
      "250/250 [==============================] - 0s 2ms/step - loss: 0.3362 - val_loss: 0.3292\n",
      "Epoch 95/1000\n",
      "250/250 [==============================] - 1s 2ms/step - loss: 0.3396 - val_loss: 0.3343\n",
      "Epoch 96/1000\n",
      "250/250 [==============================] - 0s 2ms/step - loss: 0.3403 - val_loss: 0.3289\n",
      "Epoch 97/1000\n",
      "250/250 [==============================] - 1s 2ms/step - loss: 0.3420 - val_loss: 0.3313\n",
      "Epoch 98/1000\n",
      "250/250 [==============================] - 1s 2ms/step - loss: 0.3317 - val_loss: 0.3273\n",
      "Epoch 99/1000\n",
      "250/250 [==============================] - 1s 2ms/step - loss: 0.3435 - val_loss: 0.3334\n",
      "Epoch 100/1000\n",
      "250/250 [==============================] - 1s 2ms/step - loss: 0.3295 - val_loss: 0.3287\n",
      "Epoch 101/1000\n",
      "250/250 [==============================] - 1s 2ms/step - loss: 0.3359 - val_loss: 0.3332\n",
      "Epoch 102/1000\n",
      "250/250 [==============================] - 0s 2ms/step - loss: 0.3478 - val_loss: 0.3279\n",
      "Epoch 103/1000\n",
      "250/250 [==============================] - 1s 2ms/step - loss: 0.3444 - val_loss: 0.3266\n",
      "Epoch 104/1000\n",
      "250/250 [==============================] - 0s 2ms/step - loss: 0.3430 - val_loss: 0.3256\n",
      "Epoch 00104: early stopping\n",
      "CPU times: user 59.4 s, sys: 4.87 s, total: 1min 4s\n",
      "Wall time: 54.1 s\n"
     ]
    },
    {
     "data": {
      "text/plain": [
       "<tensorflow.python.keras.callbacks.History at 0x7f89702b8198>"
      ]
     },
     "execution_count": 24,
     "metadata": {
      "tags": []
     },
     "output_type": "execute_result"
    }
   ],
   "source": [
    "%%time\n",
    "model.fit(x=X_train, y=y_train, epochs=1000,validation_data=(X_test, y_test), verbose=1, callbacks=[early_stop])"
   ]
  },
  {
   "cell_type": "code",
   "execution_count": 25,
   "metadata": {
    "colab": {
     "base_uri": "https://localhost:8080/",
     "height": 283
    },
    "id": "1KuR9hn1y1lD",
    "outputId": "0b1bd558-4455-4b57-9cf0-90d27717c1d4"
   },
   "outputs": [
    {
     "data": {
      "text/plain": [
       "<matplotlib.axes._subplots.AxesSubplot at 0x7f8916f8ccc0>"
      ]
     },
     "execution_count": 25,
     "metadata": {
      "tags": []
     },
     "output_type": "execute_result"
    },
    {
     "data": {
      "image/png": "[encoded data removed]",
      "text/plain": [
       "<Figure size 432x288 with 1 Axes>"
      ]
     },
     "metadata": {
      "needs_background": "light",
      "tags": []
     },
     "output_type": "display_data"
    }
   ],
   "source": [
    "model_loss = pd.DataFrame(model.history.history)\n",
    "model_loss.plot()"
   ]
  },
  {
   "cell_type": "code",
   "execution_count": 26,
   "metadata": {
    "colab": {
     "base_uri": "https://localhost:8080/"
    },
    "id": "HIvVLfd1gG6D",
    "outputId": "62607583-d020-45e1-b1e4-77876ab2906a"
   },
   "outputs": [
    {
     "name": "stdout",
     "output_type": "stream",
     "text": [
      "Model: \"sequential_1\"\n",
      "_________________________________________________________________\n",
      "Layer (type)                 Output Shape              Param #   \n",
      "=================================================================\n",
      "dense_5 (Dense)              (None, 10)                110       \n",
      "_________________________________________________________________\n",
      "dense_6 (Dense)              (None, 7)                 77        \n",
      "_________________________________________________________________\n",
      "dropout_3 (Dropout)          (None, 7)                 0         \n",
      "_________________________________________________________________\n",
      "dense_7 (Dense)              (None, 7)                 56        \n",
      "_________________________________________________________________\n",
      "dropout_4 (Dropout)          (None, 7)                 0         \n",
      "_________________________________________________________________\n",
      "dense_8 (Dense)              (None, 7)                 56        \n",
      "_________________________________________________________________\n",
      "dropout_5 (Dropout)          (None, 7)                 0         \n",
      "_________________________________________________________________\n",
      "dense_9 (Dense)              (None, 1)                 8         \n",
      "=================================================================\n",
      "Total params: 307\n",
      "Trainable params: 307\n",
      "Non-trainable params: 0\n",
      "_________________________________________________________________\n"
     ]
    }
   ],
   "source": [
    "model.summary()"
   ]
  },
  {
   "cell_type": "markdown",
   "metadata": {
    "id": "0xygnVxXYuNE"
   },
   "source": [
    "## **Model Evaluation**"
   ]
  },
  {
   "cell_type": "code",
   "execution_count": 27,
   "metadata": {
    "colab": {
     "base_uri": "https://localhost:8080/"
    },
    "id": "FHlIUabpJq3b",
    "outputId": "2616f8d0-2b9e-4783-acf2-ffcaa6d36dd8"
   },
   "outputs": [
    {
     "name": "stdout",
     "output_type": "stream",
     "text": [
      "              precision    recall  f1-score   support\n",
      "\n",
      "           0       0.87      0.98      0.92      1577\n",
      "           1       0.84      0.45      0.58       423\n",
      "\n",
      "    accuracy                           0.86      2000\n",
      "   macro avg       0.85      0.71      0.75      2000\n",
      "weighted avg       0.86      0.86      0.85      2000\n",
      "\n"
     ]
    },
    {
     "name": "stderr",
     "output_type": "stream",
     "text": [
      "/usr/local/lib/python3.6/dist-packages/tensorflow/python/keras/engine/sequential.py:450: UserWarning: `model.predict_classes()` is deprecated and will be removed after 2021-01-01. Please use instead:* `np.argmax(model.predict(x), axis=-1)`,   if your model does multi-class classification   (e.g. if it uses a `softmax` last-layer activation).* `(model.predict(x) > 0.5).astype(\"int32\")`,   if your model does binary classification   (e.g. if it uses a `sigmoid` last-layer activation).\n",
      "  warnings.warn('`model.predict_classes()` is deprecated and '\n"
     ]
    }
   ],
   "source": [
    "predictions = model.predict_classes(X_test)\n",
    "print(classification_report(y_test,predictions))"
   ]
  },
  {
   "cell_type": "code",
   "execution_count": 28,
   "metadata": {
    "colab": {
     "base_uri": "https://localhost:8080/"
    },
    "id": "VoRxu_JAJ7TO",
    "outputId": "d12e3285-547a-4c2a-9210-4f4f2c8dd04d"
   },
   "outputs": [
    {
     "name": "stdout",
     "output_type": "stream",
     "text": [
      "[[1540   37]\n",
      " [ 234  189]]\n"
     ]
    }
   ],
   "source": [
    "print(confusion_matrix(y_test,predictions))"
   ]
  },
  {
   "cell_type": "markdown",
   "metadata": {
    "id": "Ho83h9TwY6D6"
   },
   "source": [
    "## **Predicting on New Values**"
   ]
  },
  {
   "cell_type": "code",
   "execution_count": 29,
   "metadata": {
    "colab": {
     "base_uri": "https://localhost:8080/"
    },
    "id": "1eftn8SOKBJg",
    "outputId": "953a6420-b3a9-4647-efcd-d2cf26c75a69"
   },
   "outputs": [
    {
     "name": "stderr",
     "output_type": "stream",
     "text": [
      "/usr/local/lib/python3.6/dist-packages/tensorflow/python/keras/engine/sequential.py:450: UserWarning: `model.predict_classes()` is deprecated and will be removed after 2021-01-01. Please use instead:* `np.argmax(model.predict(x), axis=-1)`,   if your model does multi-class classification   (e.g. if it uses a `softmax` last-layer activation).* `(model.predict(x) > 0.5).astype(\"int32\")`,   if your model does binary classification   (e.g. if it uses a `sigmoid` last-layer activation).\n",
      "  warnings.warn('`model.predict_classes()` is deprecated and '\n"
     ]
    }
   ],
   "source": [
    "prediction =model.predict_classes([[0,499,1,39,3,50000,2,1,1,60000]])"
   ]
  },
  {
   "cell_type": "code",
   "execution_count": 30,
   "metadata": {
    "colab": {
     "base_uri": "https://localhost:8080/"
    },
    "id": "yo0QFkkVKbRL",
    "outputId": "4764bd28-0dad-4aae-8542-55a722a1835c"
   },
   "outputs": [
    {
     "name": "stdout",
     "output_type": "stream",
     "text": [
      "[[0]]\n"
     ]
    }
   ],
   "source": [
    "print(prediction)"
   ]
  },
  {
   "cell_type": "code",
   "execution_count": null,
   "metadata": {
    "id": "TwsHiPbwQv2C"
   },
   "outputs": [],
   "source": []
  }
 ],
 "metadata": {
  "accelerator": "GPU",
  "colab": {
   "collapsed_sections": [],
   "name": "18csu219_ann.ipynb",
   "provenance": [],
   "toc_visible": true
  },
  "kernelspec": {
   "display_name": "Python 3",
   "language": "python",
   "name": "python3"
  },
  "language_info": {
   "codemirror_mode": {
    "name": "ipython",
    "version": 3
   },
   "file_extension": ".py",
   "mimetype": "text/x-python",
   "name": "python",
   "nbconvert_exporter": "python",
   "pygments_lexer": "ipython3",
   "version": "3.8.5"
  }
 },
 "nbformat": 4,
 "nbformat_minor": 1
}
